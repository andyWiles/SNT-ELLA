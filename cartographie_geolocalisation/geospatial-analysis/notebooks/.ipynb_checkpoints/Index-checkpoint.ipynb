{
 "cells": [
  {
   "cell_type": "markdown",
   "metadata": {},
   "source": [
    "# Geospatial analysis tutorials\n",
    "\n",
    "This is the main index for the materials of tutorials for geospatial analysis.\n",
    "Please refer to the [github repository](http://github.com/makinacorpus/tutorials) for these tutorials for any updates."
   ]
  },
  {
   "cell_type": "markdown",
   "metadata": {},
   "source": [
    "## Tutorial Notebooks\n",
    "\n",
    "The following links are to notebooks about several themes, several tools.\n",
    "\n",
    "### Geopandas and folium\n",
    "\n",
    "  + [Snow_map.ipynb](Snow_map.ipynb)\n"
   ]
  }
 ],
 "metadata": {
  "kernelspec": {
   "display_name": "Python 3",
   "language": "python",
   "name": "python3"
  },
  "language_info": {
   "codemirror_mode": {
    "name": "ipython",
    "version": 3
   },
   "file_extension": ".py",
   "mimetype": "text/x-python",
   "name": "python",
   "nbconvert_exporter": "python",
   "pygments_lexer": "ipython3",
   "version": "3.7.3"
  }
 },
 "nbformat": 4,
 "nbformat_minor": 1
}
